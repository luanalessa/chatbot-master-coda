{
  "nbformat": 4,
  "nbformat_minor": 0,
  "metadata": {
    "colab": {
      "provenance": [],
      "authorship_tag": "ABX9TyO7IqhXmTn6HzAyCkbcBCd+",
      "include_colab_link": true
    },
    "kernelspec": {
      "name": "python3",
      "display_name": "Python 3"
    },
    "language_info": {
      "name": "python"
    }
  },
  "cells": [
    {
      "cell_type": "markdown",
      "metadata": {
        "id": "view-in-github",
        "colab_type": "text"
      },
      "source": [
        "<a href=\"https://colab.research.google.com/github/luanalessa/chatbot-master-coda/blob/main/chatbot.ipynb\" target=\"_parent\"><img src=\"https://colab.research.google.com/assets/colab-badge.svg\" alt=\"Open In Colab\"/></a>"
      ]
    },
    {
      "cell_type": "code",
      "execution_count": 1,
      "metadata": {
        "id": "yQhAJiFgYHKU"
      },
      "outputs": [],
      "source": [
        "!pip install -q -U google-generativeai"
      ]
    },
    {
      "cell_type": "code",
      "source": [
        "import google.generativeai as genai\n",
        "from google.colab import userdata\n",
        "\n",
        "GOOGLE_API_KEY=userdata.get('GOOGLE_API_KEY')\n",
        "genai.configure(api_key=GOOGLE_API_KEY)"
      ],
      "metadata": {
        "id": "to23vCuxeoD8"
      },
      "execution_count": 3,
      "outputs": []
    },
    {
      "cell_type": "code",
      "source": [
        "generation_config = {\n",
        "    \"candidate_count\": 1,\n",
        "    \"temperature\": 0.75\n",
        "}"
      ],
      "metadata": {
        "id": "BZ-YXL66gjXe"
      },
      "execution_count": 4,
      "outputs": []
    },
    {
      "cell_type": "markdown",
      "source": [],
      "metadata": {
        "id": "q8yTRgBCjy5U"
      }
    },
    {
      "cell_type": "code",
      "source": [
        "safety_settings = {\n",
        "    \"HARASSMENT\": \"BLOCK_ONLY_HIGH\",\n",
        "    \"HATE\": \"BLOCK_ONLY_HIGH\",\n",
        "    \"SEXUAL\": \"BLOCK_ONLY_HIGH\",\n",
        "    \"DANGEROUS\": \"BLOCK_ONLY_HIGH\"\n",
        "}"
      ],
      "metadata": {
        "id": "VXNJBoXVgnwr"
      },
      "execution_count": 6,
      "outputs": []
    },
    {
      "cell_type": "code",
      "source": [
        "model = genai.GenerativeModel(model_name=\"gemini-1.0-pro\",\n",
        "                              generation_config=generation_config,\n",
        "                              safety_settings=safety_settings)"
      ],
      "metadata": {
        "id": "tItwFZaYgsju"
      },
      "execution_count": 7,
      "outputs": []
    },
    {
      "cell_type": "code",
      "source": [
        "print(\"Bem-vindo, Padawan! Eu sou o Mestre Coda, e estou aqui para guiá-lo na jornada de aprendizado. Que a Força esteja com você!\")\n"
      ],
      "metadata": {
        "colab": {
          "base_uri": "https://localhost:8080/",
          "height": 0
        },
        "id": "zvVmCsTZheb4",
        "outputId": "d1207622-b5c2-4fdb-9472-931e784c8873"
      },
      "execution_count": 11,
      "outputs": [
        {
          "name": "stdout",
          "output_type": "stream",
          "text": [
            "Bem-vindo, Padawan! Eu sou o Mestre Yoda, e estou aqui para guiá-lo na jornada de aprendizado. Que a Força esteja com você!\n",
            "Primeiro, diga-me o que você deseja aprender.python\n"
          ]
        }
      ]
    },
    {
      "cell_type": "code",
      "source": [
        "while True:\n",
        "    request = input(\"Primeiro, diga-me o que você deseja aprender.\")\n",
        "    if request.lower() == 'sair':\n",
        "        print(\"Que a Força esteja com você, Padawan. Até logo!\")\n",
        "        break\n",
        "\n",
        "    prompt=(f\"Desenvolver um guia de estudo Jedi para o tópico:{request}. Este guia deve compreender uma variedade de recursos, tais como cursos, artigos, vídeos gratuitos e exercícios, todos com links, que ofereçam uma abordagem completa e organizada sobre o assunto. Quanto mais detalhado e diversificado for o guia, melhor! A resposta deve ser dividida em níveis de iniciante, intermediário e avançado, cada um com conteúdos pertinentes ao respectivo nível. Os níveis devem ser nomeados de forma apropriada ao tema.\")\n",
        "    response = model.generate_content(prompt)\n",
        "    print(response.text)\n",
        "\n",
        "    while True:\n",
        "        new_request = input(\"Deseja ou gerar outro Jedi Roadmap? (s/n)\")\n",
        "\n",
        "        if new_request.lower() == 's':\n",
        "            break\n",
        "        elif new_request.lower() == 'n':\n",
        "            print(\"Que a Força esteja com você, Padawan. Até logo!\")\n",
        "            exit()\n",
        "        else:\n",
        "            print(\"Por favor, responda com 's' para sim ou 'n' para não.\")\n"
      ],
      "metadata": {
        "id": "R8IBLk8xiI4w"
      },
      "execution_count": null,
      "outputs": []
    }
  ]
}