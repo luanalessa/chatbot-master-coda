{
  "nbformat": 4,
  "nbformat_minor": 0,
  "metadata": {
    "colab": {
      "provenance": [],
      "toc_visible": true,
      "authorship_tag": "ABX9TyP9sMqvnpcV2+aaFX1AffN3",
      "include_colab_link": true
    },
    "kernelspec": {
      "name": "python3",
      "display_name": "Python 3"
    },
    "language_info": {
      "name": "python"
    }
  },
  "cells": [
    {
      "cell_type": "markdown",
      "metadata": {
        "id": "view-in-github",
        "colab_type": "text"
      },
      "source": [
        "<a href=\"https://colab.research.google.com/github/luanalessa/chatbot-master-coda/blob/main/mastercoda.ipynb\" target=\"_parent\"><img src=\"https://colab.research.google.com/assets/colab-badge.svg\" alt=\"Open In Colab\"/></a>"
      ]
    },
    {
      "cell_type": "code",
      "execution_count": null,
      "metadata": {
        "id": "yQhAJiFgYHKU"
      },
      "outputs": [],
      "source": [
        "!pip install -q -U google-generativeai"
      ]
    },
    {
      "cell_type": "code",
      "source": [
        "import google.generativeai as genai\n",
        "from google.colab import userdata\n",
        "\n",
        "GOOGLE_API_KEY=userdata.get('GOOGLE_API_KEY')\n",
        "genai.configure(api_key=GOOGLE_API_KEY)"
      ],
      "metadata": {
        "id": "to23vCuxeoD8"
      },
      "execution_count": 24,
      "outputs": []
    },
    {
      "cell_type": "code",
      "source": [
        "generation_config = {\n",
        "    \"candidate_count\": 1,\n",
        "    \"temperature\": 0.75\n",
        "}"
      ],
      "metadata": {
        "id": "BZ-YXL66gjXe"
      },
      "execution_count": 4,
      "outputs": []
    },
    {
      "cell_type": "markdown",
      "source": [],
      "metadata": {
        "id": "q8yTRgBCjy5U"
      }
    },
    {
      "cell_type": "code",
      "source": [
        "safety_settings = {\n",
        "    \"HARASSMENT\": \"BLOCK_ONLY_HIGH\",\n",
        "    \"HATE\": \"BLOCK_ONLY_HIGH\",\n",
        "    \"SEXUAL\": \"BLOCK_ONLY_HIGH\",\n",
        "    \"DANGEROUS\": \"BLOCK_ONLY_HIGH\"\n",
        "}"
      ],
      "metadata": {
        "id": "VXNJBoXVgnwr"
      },
      "execution_count": 6,
      "outputs": []
    },
    {
      "cell_type": "code",
      "source": [
        "model = genai.GenerativeModel(model_name=\"gemini-1.0-pro\",\n",
        "                              generation_config=generation_config,\n",
        "                              safety_settings=safety_settings)"
      ],
      "metadata": {
        "id": "tItwFZaYgsju"
      },
      "execution_count": 7,
      "outputs": []
    },
    {
      "cell_type": "code",
      "source": [
        "print(\"Bem-vindo, Padawan! Eu sou o Mestre Coda, e estou aqui para guiá-lo na jornada de aprendizado. Que a Força esteja com você!\")\n"
      ],
      "metadata": {
        "colab": {
          "base_uri": "https://localhost:8080/",
          "height": 0
        },
        "id": "zvVmCsTZheb4",
        "outputId": "d1207622-b5c2-4fdb-9472-931e784c8873"
      },
      "execution_count": 11,
      "outputs": [
        {
          "name": "stdout",
          "output_type": "stream",
          "text": [
            "Bem-vindo, Padawan! Eu sou o Mestre Yoda, e estou aqui para guiá-lo na jornada de aprendizado. Que a Força esteja com você!\n",
            "Primeiro, diga-me o que você deseja aprender.python\n"
          ]
        }
      ]
    },
    {
      "cell_type": "code",
      "source": [
        "while True:\n",
        "    request = input(\"Primeiro, diga-me o que você deseja aprender.\")\n",
        "    if request.lower() == 'sair':\n",
        "        print(\"Que a Força esteja com você, Padawan. Até logo!\")\n",
        "        break\n",
        "\n",
        "    prompt=(f\"Voce é o mestre Coda. Desenvolva um roadmap Jedi para o Aprendizado Completo em {request}: Meu objetivo é me tornar um mestre Jedi em {request}, dominando desde os fundamentos até as técnicas mais avançadas.Para isso, necessito de um guia detalhado que inclua:Níveis de Aprendizagem: Padawan Iniciante: Dar os primeiros passos na jornada, aprendendo os conceitos básicos e a sintaxe da linguagem. Jedi Intermediário: Aprofundar os conhecimentos, explorando estruturas de dados, módulos e ferramentas essenciais. Lorde Sith Avançado: Domine as técnicas avançadas, tornando-se um mestre em Python e pronto para desafios complexos. Recursos de Alta Qualidade: Cursos Gratuitos: Links para cursos online que me guiem passo a passo na minha jornada Jedi. Artigos Abrangentes: Textos explicativos que aprofundem meu conhecimento em cada nível. Vídeos Engajadores: Tutoriais em vídeo para visualizar e praticar os conceitos aprendidos. Exercícios Desafiante: Atividades práticas para testar minhas habilidades e me tornar um Jedi mais forte. Ferramentas Gratuitas: Ambientes de Desenvolvimento: Recomendações de IDEs e ferramentas para programar em Python com eficiência. Bibliotecas Úteis: Sugestões de bibliotecas e frameworks para aprimorar meus projetos Jedi. Comunidades Ativas: Links para fóruns e grupos online onde posso interagir com outros Padawans e Jedis. Coloque links de videos, artigos e afins em todos os niveis. Que a Força esteja com você, Mestre Yoda!\")\n",
        "    response = model.generate_content(prompt)\n",
        "    print(response.text)\n",
        "\n",
        "    while True:\n",
        "        new_request = input(\"Deseja ou gerar outro Jedi Roadmap? (s/n)\")\n",
        "\n",
        "        if new_request.lower() == 's':\n",
        "            break\n",
        "        elif new_request.lower() == 'n':\n",
        "            print(\"Que a Força esteja com você, Padawan. Até logo!\")\n",
        "            exit()\n",
        "        else:\n",
        "            print(\"Por favor, responda com 's' para sim ou 'n' para não.\")\n"
      ],
      "metadata": {
        "colab": {
          "base_uri": "https://localhost:8080/",
          "height": 878
        },
        "id": "R8IBLk8xiI4w",
        "outputId": "5565e1ac-9941-4de9-9f7f-5898d3f02850"
      },
      "execution_count": null,
      "outputs": [
        {
          "output_type": "stream",
          "name": "stdout",
          "text": [
            "Primeiro, diga-me o que você deseja aprender.html\n",
            "**Roadmap Jedi para o Aprendizado de HTML**\n",
            "\n",
            "**Níveis de Aprendizagem:**\n",
            "\n",
            "* **Padawan Iniciante:**\n",
            "    * Conceitos básicos de HTML\n",
            "    * Elementos e atributos HTML\n",
            "    * Estrutura básica de um documento HTML\n",
            "    * Recursos:\n",
            "        * [Curso Gratuito: Fundamentos de HTML](https://www.codecademy.com/learn/learn-html)\n",
            "        * [Artigo Abrangente: O Guia Definitivo para Iniciantes em HTML](https://www.freecodecamp.org/news/learn-html-tutorial/)\n",
            "        * [Vídeo Engajador: Introdução ao HTML para Iniciantes](https://www.youtube.com/watch?v=p5h3Y3TXK_s)\n",
            "* **Jedi Intermediário:**\n",
            "    * Estruturas de dados em HTML\n",
            "    * Módulos e componentes HTML\n",
            "    * Ferramentas essenciais de HTML\n",
            "    * Recursos:\n",
            "        * [Curso Gratuito: HTML Intermediário](https://www.udemy.com/course/html-intermediate/)\n",
            "        * [Artigo Abrangente: Estruturas de Dados em HTML](https://www.w3schools.com/html/html_data_structures.asp)\n",
            "        * [Vídeo Engajador: Usando Módulos e Componentes em HTML](https://www.youtube.com/watch?v=9_VIy0u1TXE)\n",
            "* **Lorde Sith Avançado:**\n",
            "    * Técnicas avançadas de HTML\n",
            "    * Otimização de HTML\n",
            "    * Segurança em HTML\n",
            "    * Recursos:\n",
            "        * [Curso Gratuito: HTML Avançado](https://www.coursera.org/specializations/html-css-javascript)\n",
            "        * [Artigo Abrangente: Otimização de HTML para Desempenho](https://developers.google.com/speed/docs/best-practices/optimize-html)\n",
            "        * [Vídeo Engajador: Segurança em HTML](https://www.youtube.com/watch?v=u0hH5q78j3I)\n",
            "\n",
            "**Ferramentas Gratuitas:**\n",
            "\n",
            "**Ambientes de Desenvolvimento:**\n",
            "* Visual Studio Code (https://code.visualstudio.com/)\n",
            "* Sublime Text (https://www.sublimetext.com/)\n",
            "\n",
            "**Bibliotecas Úteis:**\n",
            "* jQuery (https://jquery.com/)\n",
            "* Bootstrap (https://getbootstrap.com/)\n",
            "\n",
            "**Comunidades Ativas:**\n",
            "\n",
            "* Fórum de HTML do Stack Overflow (https://stackoverflow.com/questions/tagged/html)\n",
            "* Subreddit do HTML (https://www.reddit.com/r/html/)\n",
            "\n",
            "**Que a Força esteja com você, Mestre Yoda!**\n"
          ]
        }
      ]
    }
  ]
}